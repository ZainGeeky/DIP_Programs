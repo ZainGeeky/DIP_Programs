{
 "cells": [
  {
   "cell_type": "code",
   "execution_count": null,
   "id": "19767b47",
   "metadata": {},
   "outputs": [
    {
     "name": "stderr",
     "output_type": "stream",
     "text": [
      "/var/folders/kz/5ld0lz5d7xd233lr2z4l_hjr0000gn/T/ipykernel_79032/2317699835.py:9: DeprecationWarning: `np.int0` is a deprecated alias for `np.intp`.  (Deprecated NumPy 1.24)\n",
      "  corners = np.int0(corners)\n"
     ]
    }
   ],
   "source": [
    "import numpy as np\n",
    "import cv2\n",
    "\n",
    "img = cv2.imread('/Users/muhammedzainuddinmoosa/Desktop/OpenCV-Tutorials-main/assets/chessboard.png')\n",
    "img = cv2.resize(img, (0, 0), fx=0.75, fy=0.75)\n",
    "gray = cv2.cvtColor(img, cv2.COLOR_BGR2GRAY)\n",
    "\n",
    "corners = cv2.goodFeaturesToTrack(gray, 100, 0.01, 10)\n",
    "corners = np.int0(corners)\n",
    "\n",
    "for corner in corners:\n",
    "\tx, y = corner.ravel()\n",
    "\tcv2.circle(img, (x, y), 5, (255, 0, 0), -1)\n",
    "\n",
    "for i in range(len(corners)):\n",
    "\tfor j in range(i + 1, len(corners)):\n",
    "\t\tcorner1 = tuple(corners[i][0])\n",
    "\t\tcorner2 = tuple(corners[j][0])\n",
    "\t\tcolor = tuple(map(lambda x: int(x), np.random.randint(0, 255, size=3)))\n",
    "\t\tcv2.line(img, corner1, corner2, color, 1)\n",
    "\n",
    "cv2.imshow('Frame', img)\n",
    "cv2.waitKey(0)\n",
    "cv2.destroyAllWindows()"
   ]
  },
  {
   "cell_type": "code",
   "execution_count": null,
   "id": "160c6b4e",
   "metadata": {},
   "outputs": [],
   "source": []
  }
 ],
 "metadata": {
  "kernelspec": {
   "display_name": "Python 3 (ipykernel)",
   "language": "python",
   "name": "python3"
  },
  "language_info": {
   "codemirror_mode": {
    "name": "ipython",
    "version": 3
   },
   "file_extension": ".py",
   "mimetype": "text/x-python",
   "name": "python",
   "nbconvert_exporter": "python",
   "pygments_lexer": "ipython3",
   "version": "3.10.6"
  }
 },
 "nbformat": 4,
 "nbformat_minor": 5
}
