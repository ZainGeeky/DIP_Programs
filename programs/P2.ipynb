{
 "cells": [
  {
   "cell_type": "code",
   "execution_count": null,
   "id": "f702da9f",
   "metadata": {},
   "outputs": [],
   "source": [
    "import cv2\n",
    "import random\n",
    "\n",
    "img = cv2.imread('/Users/muhammedzainuddinmoosa/Desktop/OpenCV-Tutorials-main/assets/logo.jpg', -1)\n",
    "\n",
    "# Change first 100 rows to random pixels\n",
    "for i in range(100):\n",
    "\tfor j in range(img.shape[1]):\n",
    "\t\timg[i][j] = [random.randint(0, 255), random.randint(0, 255), random.randint(0, 255)]\n",
    "\n",
    "# Copy part of image\n",
    "tag = img[500:700, 600:900]\n",
    "img[100:300, 650:950] = tag\n",
    "\n",
    "cv2.imshow('Image', img)\n",
    "cv2.waitKey(0)\n",
    "cv2.destroyAllWindows()"
   ]
  },
  {
   "cell_type": "code",
   "execution_count": null,
   "id": "f211a373",
   "metadata": {},
   "outputs": [],
   "source": []
  }
 ],
 "metadata": {
  "kernelspec": {
   "display_name": "Python 3 (ipykernel)",
   "language": "python",
   "name": "python3"
  },
  "language_info": {
   "codemirror_mode": {
    "name": "ipython",
    "version": 3
   },
   "file_extension": ".py",
   "mimetype": "text/x-python",
   "name": "python",
   "nbconvert_exporter": "python",
   "pygments_lexer": "ipython3",
   "version": "3.10.6"
  }
 },
 "nbformat": 4,
 "nbformat_minor": 5
}
