{
 "cells": [
  {
   "cell_type": "code",
   "execution_count": 1,
   "id": "c0e5f17c",
   "metadata": {},
   "outputs": [
    {
     "data": {
      "text/plain": [
       "True"
      ]
     },
     "execution_count": 1,
     "metadata": {},
     "output_type": "execute_result"
    }
   ],
   "source": [
    "import cv2\n",
    "\n",
    "img = cv2.imread('/Users/muhammedzainuddinmoosa/Desktop/OpenCV-Tutorials-main/assets/logo.jpg', 1)\n",
    "# # img = cv2.resize(img, (0, 0), fx=0.5, fy=0.5)\n",
    "# # img = cv2.rotate(img, cv2.cv2.ROTATE_90_CLOCKWISE)\n",
    "\n",
    "cv2.imwrite('new_img.jpg', img)\n",
    "\n",
    "# cv2.imshow('Image', img)\n",
    "# cv2.waitKey(0)\n",
    "# cv2.destroyAllWindows()"
   ]
  },
  {
   "cell_type": "code",
   "execution_count": null,
   "id": "4ce26a53",
   "metadata": {},
   "outputs": [],
   "source": []
  }
 ],
 "metadata": {
  "kernelspec": {
   "display_name": "Python 3 (ipykernel)",
   "language": "python",
   "name": "python3"
  },
  "language_info": {
   "codemirror_mode": {
    "name": "ipython",
    "version": 3
   },
   "file_extension": ".py",
   "mimetype": "text/x-python",
   "name": "python",
   "nbconvert_exporter": "python",
   "pygments_lexer": "ipython3",
   "version": "3.10.6"
  }
 },
 "nbformat": 4,
 "nbformat_minor": 5
}
